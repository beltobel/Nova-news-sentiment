{
 "cells": [
  {
   "cell_type": "code",
   "execution_count": null,
   "metadata": {},
   "outputs": [],
   "source": [
    "!pip install textblob\n"
   ]
  },
  {
   "cell_type": "code",
   "execution_count": null,
   "metadata": {},
   "outputs": [],
   "source": [
    "\n",
    "import pandas as pd\n",
    "from textblob import TextBlob\n",
    "from scipy.stats import pearsonr\n",
    "import os\n"
   ]
  },
  {
   "cell_type": "code",
   "execution_count": null,
   "metadata": {},
   "outputs": [],
   "source": []
  },
  {
   "cell_type": "code",
   "execution_count": null,
   "metadata": {},
   "outputs": [],
   "source": [
    "\n",
    "# Step 1: Load Data\n",
    "def load_stock_data(file_path):\n",
    "    \"\"\"Load and prepare stock price data.\"\"\"\n",
    "    df = pd.read_csv(file_path)\n",
    "    # df['Date'] = pd.to_datetime(df['Date'])\n",
    "    df['Date'] = pd.to_datetime(df['Date'], errors='coerce')\n",
    "    df.set_index('Date', inplace=True)\n",
    "    df['Daily_Return'] = df['Close'].pct_change()  # Calculate daily returns\n",
    "    return df[['Daily_Return']]\n"
   ]
  },
  {
   "cell_type": "code",
   "execution_count": null,
   "metadata": {},
   "outputs": [],
   "source": [
    "\n",
    "def load_news_data(file_path):\n",
    "    \"\"\"Load and prepare news data.\"\"\"\n",
    "    df = pd.read_csv(file_path)\n",
    "    # df['date'] = pd.to_datetime(df['date']).dt.date  # Normalize to date only\n",
    "    df['date'] = pd.to_datetime(df['date'], errors='coerce')\n",
    "    return df[['date', 'headline']]\n"
   ]
  },
  {
   "cell_type": "code",
   "execution_count": null,
   "metadata": {},
   "outputs": [],
   "source": [
    "\n",
    "# Step 2: Perform Sentiment Analysis\n",
    "def calculate_sentiment(news_df):\n",
    "    \"\"\"Assign sentiment scores to news headlines.\"\"\"\n",
    "    def get_sentiment_score(text):\n",
    "        return TextBlob(text).sentiment.polarity\n",
    "\n",
    "    news_df['Sentiment'] = news_df['headline'].apply(get_sentiment_score)\n",
    "    return news_df\n"
   ]
  },
  {
   "cell_type": "code",
   "execution_count": null,
   "metadata": {},
   "outputs": [],
   "source": [
    "\n",
    "# Step 3: Aggregate Daily Sentiment Scores\n",
    "def aggregate_sentiments(news_df):\n",
    "    \"\"\"Compute average sentiment scores for each day.\"\"\"\n",
    "    aggregated = news_df.groupby('date').agg({'Sentiment': 'mean'}).reset_index()\n",
    "    # aggregated['date'] = pd.to_datetime(aggregated['date'])\n",
    "    aggregated['date'] = pd.to_datetime(aggregated['date'], errors='coerce')\n",
    "\n",
    "    return aggregated.set_index('date')\n"
   ]
  },
  {
   "cell_type": "code",
   "execution_count": null,
   "metadata": {},
   "outputs": [],
   "source": [
    "\n",
    "# Step 4: Align Stock and News Data\n",
    "def align_data(stock_df, sentiment_df):\n",
    "    \"\"\"Merge stock and sentiment data by date.\"\"\"\n",
    "    return stock_df.join(sentiment_df, how='inner')\n"
   ]
  },
  {
   "cell_type": "code",
   "execution_count": null,
   "metadata": {},
   "outputs": [],
   "source": [
    "\n",
    "# Step 5: Calculate Correlation\n",
    "def calculate_correlation(df):\n",
    "    \"\"\"Compute correlation between stock returns and sentiment.\"\"\"\n",
    "    correlation, p_value = pearsonr(df['Daily_Return'].dropna(), df['Sentiment'].dropna())\n",
    "    return correlation, p_value\n"
   ]
  },
  {
   "cell_type": "code",
   "execution_count": null,
   "metadata": {},
   "outputs": [],
   "source": [
    "\n",
    "# Step 6: Process Data and Analysis\n",
    "def process_correlation_analysis(stock_dir, news_file):\n",
    "    \"\"\"Perform the entire analysis for all stock files and a news file.\"\"\"\n",
    "    news_df = load_news_data(news_file)\n",
    "    news_df = calculate_sentiment(news_df)\n",
    "    aggregated_sentiments = aggregate_sentiments(news_df)\n",
    "\n",
    "    results = []\n",
    "    for stock_file in os.listdir(stock_dir):\n",
    "        if stock_file.endswith('.csv'):\n",
    "            stock_path = os.path.join(stock_dir, stock_file)\n",
    "            stock_df = load_stock_data(stock_path)\n",
    "            aligned_df = align_data(stock_df, aggregated_sentiments)\n",
    "\n",
    "            correlation, p_value = calculate_correlation(aligned_df)\n",
    "            stock_name = os.path.basename(stock_file).split('_')[0]\n",
    "            results.append({'Stock': stock_name, 'Correlation': correlation, 'P-Value': p_value})\n",
    "    \n",
    "    return pd.DataFrame(results)\n"
   ]
  },
  {
   "cell_type": "code",
   "execution_count": null,
   "metadata": {},
   "outputs": [],
   "source": [
    "\n",
    "# Step 7: Main Workflow\n",
    "if __name__ == \"__main__\":\n",
    "    # Define paths\n",
    "    stock_directory = '../Data/yfinance_data/' # Directory containing stock data\n",
    "    news_file_path = '../Data/raw_analyst_ratings.csv'  # Example: Upload the news data as a single file\n",
    "\n",
    "    # Perform analysis\n",
    "    result_df = process_correlation_analysis(stock_directory, news_file_path)\n",
    "    print(result_df)\n",
    "    # result_df.to_csv('/mnt/data/correlation_results.csv', index=False)\n"
   ]
  },
  {
   "cell_type": "code",
   "execution_count": null,
   "metadata": {},
   "outputs": [],
   "source": []
  }
 ],
 "metadata": {
  "kernelspec": {
   "display_name": "Python 3",
   "language": "python",
   "name": "python3"
  },
  "language_info": {
   "codemirror_mode": {
    "name": "ipython",
    "version": 3
   },
   "file_extension": ".py",
   "mimetype": "text/x-python",
   "name": "python",
   "nbconvert_exporter": "python",
   "pygments_lexer": "ipython3",
   "version": "3.13.1"
  }
 },
 "nbformat": 4,
 "nbformat_minor": 2
}
